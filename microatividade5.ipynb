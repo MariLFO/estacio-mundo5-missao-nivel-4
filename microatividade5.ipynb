{
  "nbformat": 4,
  "nbformat_minor": 0,
  "metadata": {
    "colab": {
      "provenance": [],
      "authorship_tag": "ABX9TyOS6j2Px5v9PQyGmRujALY6",
      "include_colab_link": true
    },
    "kernelspec": {
      "name": "python3",
      "display_name": "Python 3"
    },
    "language_info": {
      "name": "python"
    }
  },
  "cells": [
    {
      "cell_type": "markdown",
      "metadata": {
        "id": "view-in-github",
        "colab_type": "text"
      },
      "source": [
        "<a href=\"https://colab.research.google.com/github/MariLFO/estacio-mundo5-missao-nivel-4/blob/main/microatividade5.ipynb\" target=\"_parent\"><img src=\"https://colab.research.google.com/assets/colab-badge.svg\" alt=\"Open In Colab\"/></a>"
      ]
    },
    {
      "cell_type": "code",
      "execution_count": null,
      "metadata": {
        "id": "FCUo0Dx-4m5U"
      },
      "outputs": [],
      "source": []
    },
    {
      "cell_type": "markdown",
      "source": [
        "Identificação de idioma predominante em textos.\n",
        "\n",
        "Passo 1: Instalação das bibliotecas."
      ],
      "metadata": {
        "id": "87sE3q_M4ulC"
      }
    },
    {
      "cell_type": "code",
      "source": [
        "!pip install langdetect"
      ],
      "metadata": {
        "colab": {
          "base_uri": "https://localhost:8080/"
        },
        "id": "JfE2QtU24yvS",
        "outputId": "9908c40d-443b-4932-bdad-0decb717e73d"
      },
      "execution_count": 1,
      "outputs": [
        {
          "output_type": "stream",
          "name": "stdout",
          "text": [
            "Collecting langdetect\n",
            "  Downloading langdetect-1.0.9.tar.gz (981 kB)\n",
            "\u001b[2K     \u001b[90m━━━━━━━━━━━━━━━━━━━━━━━━━━━━━━━━━━━━━━━━\u001b[0m \u001b[32m981.5/981.5 kB\u001b[0m \u001b[31m3.8 MB/s\u001b[0m eta \u001b[36m0:00:00\u001b[0m\n",
            "\u001b[?25h  Preparing metadata (setup.py) ... \u001b[?25l\u001b[?25hdone\n",
            "Requirement already satisfied: six in /usr/local/lib/python3.10/dist-packages (from langdetect) (1.16.0)\n",
            "Building wheels for collected packages: langdetect\n",
            "  Building wheel for langdetect (setup.py) ... \u001b[?25l\u001b[?25hdone\n",
            "  Created wheel for langdetect: filename=langdetect-1.0.9-py3-none-any.whl size=993221 sha256=982ff0b6ac479d6ef7e20f58da35c3cd61c415142fff4167370246f1c0a60663\n",
            "  Stored in directory: /root/.cache/pip/wheels/95/03/7d/59ea870c70ce4e5a370638b5462a7711ab78fba2f655d05106\n",
            "Successfully built langdetect\n",
            "Installing collected packages: langdetect\n",
            "Successfully installed langdetect-1.0.9\n"
          ]
        }
      ]
    },
    {
      "cell_type": "markdown",
      "source": [
        "Passo 2: Definindo as frases, em diferentes idiomas, que serão analisadas."
      ],
      "metadata": {
        "id": "KoLJg8F142eZ"
      }
    },
    {
      "cell_type": "code",
      "source": [
        "text = [\"Wear masks, keep distance, wash hands, be safe in these difficult days.\",\n",
        "        \"Viseljen maszkot, tartson távolságot, mosson kezet, legyen biztonságban ezekben a nehéz napokban\",\n",
        "        \"Deaths are increasing, be vigilent.\",\n",
        "        \"Носите маски, соблюдайте дистанцию, мойте руки, будьте осторожны в эти тяжелые дни.\",\n",
        "        \"Covid-19: Indians flock to vaccination centers as vaccines are now available for 60+ in India since the 1st of March\",\n",
        "        \"Indossa maschere, mantieni le distanze, lavati le mani, sii al sicuro in questi giorni difficili.\",\n",
        "        \"Portez des masques, gardez vos distances, lavez-vous les mains, soyez en sécurité en ces jours difficiles.\",\n",
        "        \"Brug masker, hold afstand, vask hænder, vær sikker i disse vanskelige dage.\",\n",
        "        \"We are facing a global education crisis. No effort should be spared to safely bring every child back into the classroom.\",\n",
        "        \"Bruk masker, hold avstand, vask hendene, vær trygg i disse vanskelige dagene.\",\n",
        "        \"Portu maskojn, tenu distancon, lavu manojn, estu sekuraj en ĉi tiuj malfacilaj tagoj.\",\n",
        "        \"Tragen Sie Masken, halten Sie Abstand, waschen Sie Ihre Hände, seien Sie in diesen schwierigen Tagen sicher.\",\n",
        "        \"Носіть маски, тримайтеся на відстані, мийте руки, будьте в безпеці в ці важкі дні.\",\n",
        "        \"Lock down , working from home are the keys words for these days.\",\n",
        "        \"Lives have changed drastically across the planet and this period will forever be remembered as the beginning of something we have yet to witness.\",\n",
        "        \"Este é um exemplo de texto escrito em português.\"]"
      ],
      "metadata": {
        "id": "g8YUc8Dc44zB"
      },
      "execution_count": 2,
      "outputs": []
    },
    {
      "cell_type": "markdown",
      "source": [
        "Passo 3: Recarragendo o ambiente python após a instalação da lib."
      ],
      "metadata": {
        "id": "19_U2SOz5oaC"
      }
    },
    {
      "cell_type": "code",
      "source": [
        "import pkg_resources,imp\n",
        "\n",
        "imp.reload(pkg_resources)"
      ],
      "metadata": {
        "colab": {
          "base_uri": "https://localhost:8080/"
        },
        "id": "43XIlacG5rmB",
        "outputId": "e1c3969c-fe8f-420a-f0b3-cd7c64670c12"
      },
      "execution_count": 3,
      "outputs": [
        {
          "output_type": "execute_result",
          "data": {
            "text/plain": [
              "<module 'pkg_resources' from '/usr/local/lib/python3.10/dist-packages/pkg_resources/__init__.py'>"
            ]
          },
          "metadata": {},
          "execution_count": 3
        }
      ]
    },
    {
      "cell_type": "markdown",
      "source": [
        "Passo 4: Detectando a linguagem predominante na lista de frases."
      ],
      "metadata": {
        "id": "4J1gXZ1a5v_A"
      }
    },
    {
      "cell_type": "code",
      "source": [
        "from langdetect import detect\n",
        "\n",
        "for x in text:\n",
        "    print ('Frase: ', x)\n",
        "    print ('Idioma: ', detect(x), '\\n\\n')"
      ],
      "metadata": {
        "colab": {
          "base_uri": "https://localhost:8080/"
        },
        "id": "m9F7qOtD5xr5",
        "outputId": "0ee3e771-afa7-4e1e-d941-1fef4406cb47"
      },
      "execution_count": 4,
      "outputs": [
        {
          "output_type": "stream",
          "name": "stdout",
          "text": [
            "Frase:  Wear masks, keep distance, wash hands, be safe in these difficult days.\n",
            "Idioma:  en \n",
            "\n",
            "\n",
            "Frase:  Viseljen maszkot, tartson távolságot, mosson kezet, legyen biztonságban ezekben a nehéz napokban\n",
            "Idioma:  hu \n",
            "\n",
            "\n",
            "Frase:  Deaths are increasing, be vigilent.\n",
            "Idioma:  en \n",
            "\n",
            "\n",
            "Frase:  Носите маски, соблюдайте дистанцию, мойте руки, будьте осторожны в эти тяжелые дни.\n",
            "Idioma:  ru \n",
            "\n",
            "\n",
            "Frase:  Covid-19: Indians flock to vaccination centers as vaccines are now available for 60+ in India since the 1st of March\n",
            "Idioma:  en \n",
            "\n",
            "\n",
            "Frase:  Indossa maschere, mantieni le distanze, lavati le mani, sii al sicuro in questi giorni difficili.\n",
            "Idioma:  it \n",
            "\n",
            "\n",
            "Frase:  Portez des masques, gardez vos distances, lavez-vous les mains, soyez en sécurité en ces jours difficiles.\n",
            "Idioma:  fr \n",
            "\n",
            "\n",
            "Frase:  Brug masker, hold afstand, vask hænder, vær sikker i disse vanskelige dage.\n",
            "Idioma:  da \n",
            "\n",
            "\n",
            "Frase:  We are facing a global education crisis. No effort should be spared to safely bring every child back into the classroom.\n",
            "Idioma:  en \n",
            "\n",
            "\n",
            "Frase:  Bruk masker, hold avstand, vask hendene, vær trygg i disse vanskelige dagene.\n",
            "Idioma:  da \n",
            "\n",
            "\n",
            "Frase:  Portu maskojn, tenu distancon, lavu manojn, estu sekuraj en ĉi tiuj malfacilaj tagoj.\n",
            "Idioma:  hr \n",
            "\n",
            "\n",
            "Frase:  Tragen Sie Masken, halten Sie Abstand, waschen Sie Ihre Hände, seien Sie in diesen schwierigen Tagen sicher.\n",
            "Idioma:  de \n",
            "\n",
            "\n",
            "Frase:  Носіть маски, тримайтеся на відстані, мийте руки, будьте в безпеці в ці важкі дні.\n",
            "Idioma:  uk \n",
            "\n",
            "\n",
            "Frase:  Lock down , working from home are the keys words for these days.\n",
            "Idioma:  en \n",
            "\n",
            "\n",
            "Frase:  Lives have changed drastically across the planet and this period will forever be remembered as the beginning of something we have yet to witness.\n",
            "Idioma:  en \n",
            "\n",
            "\n",
            "Frase:  Este é um exemplo de texto escrito em português.\n",
            "Idioma:  pt \n",
            "\n",
            "\n"
          ]
        }
      ]
    }
  ]
}